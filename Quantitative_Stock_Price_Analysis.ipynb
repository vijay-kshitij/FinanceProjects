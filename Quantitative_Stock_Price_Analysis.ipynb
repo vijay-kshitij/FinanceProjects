{
  "nbformat": 4,
  "nbformat_minor": 0,
  "metadata": {
    "colab": {
      "provenance": []
    },
    "kernelspec": {
      "name": "python3",
      "display_name": "Python 3"
    },
    "language_info": {
      "name": "python"
    }
  },
  "cells": [
    {
      "cell_type": "markdown",
      "source": [
        "### **Questions to be answered:**\n",
        "### 1. Is daily price change of amazon data normally distributed?\n",
        "### 2. Is daily price change of amazon data significantly different from zero?\n",
        "### 3. Can price movement be described as a random walk?\n"
      ],
      "metadata": {
        "id": "7BgYBN6jupVS"
      }
    },
    {
      "cell_type": "markdown",
      "source": [
        "### **1. Is daily price change normally distributed?**"
      ],
      "metadata": {
        "id": "BWbVLsFdyXjy"
      }
    },
    {
      "cell_type": "markdown",
      "source": [
        "###**IMPORTING THE LIBRARIES**"
      ],
      "metadata": {
        "id": "6yjiKMVKqFrS"
      }
    },
    {
      "cell_type": "code",
      "execution_count": 1,
      "metadata": {
        "id": "gljtZkRSXGOX"
      },
      "outputs": [],
      "source": [
        "import numpy as np\n",
        "import pandas as pd\n",
        "#import pandas_datareader as pdr\n",
        "\n",
        "from pandas_datareader import data as pdr  #to extract data from internet\n",
        "import yfinance as yfin  #getting historical financial data from Yahoo Finance API\n",
        "\n",
        "import matplotlib.pyplot as plt\n",
        "from matplotlib import rcParams  #for matplotlib plots styling\n",
        "rcParams['figure.figsize'] = 8,6\n",
        "import seaborn as sb\n",
        "sb.set()"
      ]
    },
    {
      "cell_type": "markdown",
      "source": [
        "###**EXTRACTING AMAZON DATA FROM YAHOO FINANACE (Starting from 06/06/2018)**"
      ],
      "metadata": {
        "id": "HLnwK4XXqPNK"
      }
    },
    {
      "cell_type": "code",
      "source": [
        "yfin.pdr_override()\n",
        "data = pdr.get_data_yahoo('AMZN', start='2018-06-06')  #getting Amazon data"
      ],
      "metadata": {
        "colab": {
          "base_uri": "https://localhost:8080/"
        },
        "id": "ZNuZxH5NXpKO",
        "outputId": "ef1a0485-0660-4ff7-d7cf-d3cf93b58f11"
      },
      "execution_count": 2,
      "outputs": [
        {
          "output_type": "stream",
          "name": "stdout",
          "text": [
            "\r[*********************100%%**********************]  1 of 1 completed\n"
          ]
        }
      ]
    },
    {
      "cell_type": "code",
      "source": [
        "data.head()"
      ],
      "metadata": {
        "colab": {
          "base_uri": "https://localhost:8080/",
          "height": 238
        },
        "id": "s2T0OPaso0NF",
        "outputId": "847e0d91-cda7-4f1d-96da-17eee4076f63"
      },
      "execution_count": 3,
      "outputs": [
        {
          "output_type": "execute_result",
          "data": {
            "text/plain": [
              "                 Open       High        Low      Close  Adj Close     Volume\n",
              "Date                                                                        \n",
              "2018-06-06  85.225502  85.724998  84.323502  84.787498  84.787498  109464000\n",
              "2018-06-07  84.928001  84.995003  83.805496  84.464996  84.464996   75314000\n",
              "2018-06-08  84.056000  84.472000  83.650497  84.199501  84.199501   59102000\n",
              "2018-06-11  84.075500  84.711998  84.029503  84.456001  84.456001   46710000\n",
              "2018-06-12  84.650002  84.975502  84.575996  84.937500  84.937500   45184000"
            ],
            "text/html": [
              "\n",
              "\n",
              "  <div id=\"df-b22e31d3-4121-4ab4-be01-006833c22ab1\">\n",
              "    <div class=\"colab-df-container\">\n",
              "      <div>\n",
              "<style scoped>\n",
              "    .dataframe tbody tr th:only-of-type {\n",
              "        vertical-align: middle;\n",
              "    }\n",
              "\n",
              "    .dataframe tbody tr th {\n",
              "        vertical-align: top;\n",
              "    }\n",
              "\n",
              "    .dataframe thead th {\n",
              "        text-align: right;\n",
              "    }\n",
              "</style>\n",
              "<table border=\"1\" class=\"dataframe\">\n",
              "  <thead>\n",
              "    <tr style=\"text-align: right;\">\n",
              "      <th></th>\n",
              "      <th>Open</th>\n",
              "      <th>High</th>\n",
              "      <th>Low</th>\n",
              "      <th>Close</th>\n",
              "      <th>Adj Close</th>\n",
              "      <th>Volume</th>\n",
              "    </tr>\n",
              "    <tr>\n",
              "      <th>Date</th>\n",
              "      <th></th>\n",
              "      <th></th>\n",
              "      <th></th>\n",
              "      <th></th>\n",
              "      <th></th>\n",
              "      <th></th>\n",
              "    </tr>\n",
              "  </thead>\n",
              "  <tbody>\n",
              "    <tr>\n",
              "      <th>2018-06-06</th>\n",
              "      <td>85.225502</td>\n",
              "      <td>85.724998</td>\n",
              "      <td>84.323502</td>\n",
              "      <td>84.787498</td>\n",
              "      <td>84.787498</td>\n",
              "      <td>109464000</td>\n",
              "    </tr>\n",
              "    <tr>\n",
              "      <th>2018-06-07</th>\n",
              "      <td>84.928001</td>\n",
              "      <td>84.995003</td>\n",
              "      <td>83.805496</td>\n",
              "      <td>84.464996</td>\n",
              "      <td>84.464996</td>\n",
              "      <td>75314000</td>\n",
              "    </tr>\n",
              "    <tr>\n",
              "      <th>2018-06-08</th>\n",
              "      <td>84.056000</td>\n",
              "      <td>84.472000</td>\n",
              "      <td>83.650497</td>\n",
              "      <td>84.199501</td>\n",
              "      <td>84.199501</td>\n",
              "      <td>59102000</td>\n",
              "    </tr>\n",
              "    <tr>\n",
              "      <th>2018-06-11</th>\n",
              "      <td>84.075500</td>\n",
              "      <td>84.711998</td>\n",
              "      <td>84.029503</td>\n",
              "      <td>84.456001</td>\n",
              "      <td>84.456001</td>\n",
              "      <td>46710000</td>\n",
              "    </tr>\n",
              "    <tr>\n",
              "      <th>2018-06-12</th>\n",
              "      <td>84.650002</td>\n",
              "      <td>84.975502</td>\n",
              "      <td>84.575996</td>\n",
              "      <td>84.937500</td>\n",
              "      <td>84.937500</td>\n",
              "      <td>45184000</td>\n",
              "    </tr>\n",
              "  </tbody>\n",
              "</table>\n",
              "</div>\n",
              "      <button class=\"colab-df-convert\" onclick=\"convertToInteractive('df-b22e31d3-4121-4ab4-be01-006833c22ab1')\"\n",
              "              title=\"Convert this dataframe to an interactive table.\"\n",
              "              style=\"display:none;\">\n",
              "\n",
              "  <svg xmlns=\"http://www.w3.org/2000/svg\" height=\"24px\"viewBox=\"0 0 24 24\"\n",
              "       width=\"24px\">\n",
              "    <path d=\"M0 0h24v24H0V0z\" fill=\"none\"/>\n",
              "    <path d=\"M18.56 5.44l.94 2.06.94-2.06 2.06-.94-2.06-.94-.94-2.06-.94 2.06-2.06.94zm-11 1L8.5 8.5l.94-2.06 2.06-.94-2.06-.94L8.5 2.5l-.94 2.06-2.06.94zm10 10l.94 2.06.94-2.06 2.06-.94-2.06-.94-.94-2.06-.94 2.06-2.06.94z\"/><path d=\"M17.41 7.96l-1.37-1.37c-.4-.4-.92-.59-1.43-.59-.52 0-1.04.2-1.43.59L10.3 9.45l-7.72 7.72c-.78.78-.78 2.05 0 2.83L4 21.41c.39.39.9.59 1.41.59.51 0 1.02-.2 1.41-.59l7.78-7.78 2.81-2.81c.8-.78.8-2.07 0-2.86zM5.41 20L4 18.59l7.72-7.72 1.47 1.35L5.41 20z\"/>\n",
              "  </svg>\n",
              "      </button>\n",
              "\n",
              "\n",
              "\n",
              "    <div id=\"df-ec541f39-279e-47de-bb98-8e6df560c514\">\n",
              "      <button class=\"colab-df-quickchart\" onclick=\"quickchart('df-ec541f39-279e-47de-bb98-8e6df560c514')\"\n",
              "              title=\"Suggest charts.\"\n",
              "              style=\"display:none;\">\n",
              "\n",
              "<svg xmlns=\"http://www.w3.org/2000/svg\" height=\"24px\"viewBox=\"0 0 24 24\"\n",
              "     width=\"24px\">\n",
              "    <g>\n",
              "        <path d=\"M19 3H5c-1.1 0-2 .9-2 2v14c0 1.1.9 2 2 2h14c1.1 0 2-.9 2-2V5c0-1.1-.9-2-2-2zM9 17H7v-7h2v7zm4 0h-2V7h2v10zm4 0h-2v-4h2v4z\"/>\n",
              "    </g>\n",
              "</svg>\n",
              "      </button>\n",
              "    </div>\n",
              "\n",
              "<style>\n",
              "  .colab-df-quickchart {\n",
              "    background-color: #E8F0FE;\n",
              "    border: none;\n",
              "    border-radius: 50%;\n",
              "    cursor: pointer;\n",
              "    display: none;\n",
              "    fill: #1967D2;\n",
              "    height: 32px;\n",
              "    padding: 0 0 0 0;\n",
              "    width: 32px;\n",
              "  }\n",
              "\n",
              "  .colab-df-quickchart:hover {\n",
              "    background-color: #E2EBFA;\n",
              "    box-shadow: 0px 1px 2px rgba(60, 64, 67, 0.3), 0px 1px 3px 1px rgba(60, 64, 67, 0.15);\n",
              "    fill: #174EA6;\n",
              "  }\n",
              "\n",
              "  [theme=dark] .colab-df-quickchart {\n",
              "    background-color: #3B4455;\n",
              "    fill: #D2E3FC;\n",
              "  }\n",
              "\n",
              "  [theme=dark] .colab-df-quickchart:hover {\n",
              "    background-color: #434B5C;\n",
              "    box-shadow: 0px 1px 3px 1px rgba(0, 0, 0, 0.15);\n",
              "    filter: drop-shadow(0px 1px 2px rgba(0, 0, 0, 0.3));\n",
              "    fill: #FFFFFF;\n",
              "  }\n",
              "</style>\n",
              "\n",
              "    <script>\n",
              "      async function quickchart(key) {\n",
              "        const containerElement = document.querySelector('#' + key);\n",
              "        const charts = await google.colab.kernel.invokeFunction(\n",
              "            'suggestCharts', [key], {});\n",
              "      }\n",
              "    </script>\n",
              "\n",
              "      <script>\n",
              "\n",
              "function displayQuickchartButton(domScope) {\n",
              "  let quickchartButtonEl =\n",
              "    domScope.querySelector('#df-ec541f39-279e-47de-bb98-8e6df560c514 button.colab-df-quickchart');\n",
              "  quickchartButtonEl.style.display =\n",
              "    google.colab.kernel.accessAllowed ? 'block' : 'none';\n",
              "}\n",
              "\n",
              "        displayQuickchartButton(document);\n",
              "      </script>\n",
              "      <style>\n",
              "    .colab-df-container {\n",
              "      display:flex;\n",
              "      flex-wrap:wrap;\n",
              "      gap: 12px;\n",
              "    }\n",
              "\n",
              "    .colab-df-convert {\n",
              "      background-color: #E8F0FE;\n",
              "      border: none;\n",
              "      border-radius: 50%;\n",
              "      cursor: pointer;\n",
              "      display: none;\n",
              "      fill: #1967D2;\n",
              "      height: 32px;\n",
              "      padding: 0 0 0 0;\n",
              "      width: 32px;\n",
              "    }\n",
              "\n",
              "    .colab-df-convert:hover {\n",
              "      background-color: #E2EBFA;\n",
              "      box-shadow: 0px 1px 2px rgba(60, 64, 67, 0.3), 0px 1px 3px 1px rgba(60, 64, 67, 0.15);\n",
              "      fill: #174EA6;\n",
              "    }\n",
              "\n",
              "    [theme=dark] .colab-df-convert {\n",
              "      background-color: #3B4455;\n",
              "      fill: #D2E3FC;\n",
              "    }\n",
              "\n",
              "    [theme=dark] .colab-df-convert:hover {\n",
              "      background-color: #434B5C;\n",
              "      box-shadow: 0px 1px 3px 1px rgba(0, 0, 0, 0.15);\n",
              "      filter: drop-shadow(0px 1px 2px rgba(0, 0, 0, 0.3));\n",
              "      fill: #FFFFFF;\n",
              "    }\n",
              "  </style>\n",
              "\n",
              "      <script>\n",
              "        const buttonEl =\n",
              "          document.querySelector('#df-b22e31d3-4121-4ab4-be01-006833c22ab1 button.colab-df-convert');\n",
              "        buttonEl.style.display =\n",
              "          google.colab.kernel.accessAllowed ? 'block' : 'none';\n",
              "\n",
              "        async function convertToInteractive(key) {\n",
              "          const element = document.querySelector('#df-b22e31d3-4121-4ab4-be01-006833c22ab1');\n",
              "          const dataTable =\n",
              "            await google.colab.kernel.invokeFunction('convertToInteractive',\n",
              "                                                     [key], {});\n",
              "          if (!dataTable) return;\n",
              "\n",
              "          const docLinkHtml = 'Like what you see? Visit the ' +\n",
              "            '<a target=\"_blank\" href=https://colab.research.google.com/notebooks/data_table.ipynb>data table notebook</a>'\n",
              "            + ' to learn more about interactive tables.';\n",
              "          element.innerHTML = '';\n",
              "          dataTable['output_type'] = 'display_data';\n",
              "          await google.colab.output.renderOutput(dataTable, element);\n",
              "          const docLink = document.createElement('div');\n",
              "          docLink.innerHTML = docLinkHtml;\n",
              "          element.appendChild(docLink);\n",
              "        }\n",
              "      </script>\n",
              "    </div>\n",
              "  </div>\n"
            ]
          },
          "metadata": {},
          "execution_count": 3
        }
      ]
    },
    {
      "cell_type": "markdown",
      "source": [
        "**Description of Data**\n",
        "1. **Open:** First price at which a trade is executed after the market opens for the day.\n",
        "2. **High:** The highest price at which a financial asset traded during a specific trading session.\n",
        "3. **Low:** The lowest price at which a financial asset traded during a specific trading session.\n",
        "4. **Close:** Final trading price of a financial asset at the end of a trading session.\n",
        "5. **Adj Close:** The adjusted close price is a modified version of the close price that takes into account certain corporate actions and events that can impact the stock's value, such as stock splits and dividends.\n",
        "6. **Volume:** Volume refers to the total number of shares or units of a financial asset that were traded during a specific trading session."
      ],
      "metadata": {
        "id": "NKtiNr9LkK3y"
      }
    },
    {
      "cell_type": "markdown",
      "source": [
        "###**CALCULATE INSTANTANEOUS RATE OF RETURNS**"
      ],
      "metadata": {
        "id": "e51YefaUp-ql"
      }
    },
    {
      "cell_type": "code",
      "source": [
        "#Instantaneous Rate of Return\n",
        "amzn_close = data['Close']\n",
        "amzn_returns = np.log(amzn_close).diff()\n",
        "amzn_returns.head()"
      ],
      "metadata": {
        "colab": {
          "base_uri": "https://localhost:8080/"
        },
        "id": "OEyQ1gldkNGI",
        "outputId": "fff69a87-87d1-4a44-924b-9593ce48d746"
      },
      "execution_count": 4,
      "outputs": [
        {
          "output_type": "execute_result",
          "data": {
            "text/plain": [
              "Date\n",
              "2018-06-06         NaN\n",
              "2018-06-07   -0.003811\n",
              "2018-06-08   -0.003148\n",
              "2018-06-11    0.003042\n",
              "2018-06-12    0.005685\n",
              "Name: Close, dtype: float64"
            ]
          },
          "metadata": {},
          "execution_count": 4
        }
      ]
    },
    {
      "cell_type": "markdown",
      "source": [
        "###**PLOT THE INSTANTANEOUS ROR**"
      ],
      "metadata": {
        "id": "Zk0ZG6Fdpynr"
      }
    },
    {
      "cell_type": "code",
      "source": [
        "amzn_returns.plot()"
      ],
      "metadata": {
        "colab": {
          "base_uri": "https://localhost:8080/",
          "height": 531
        },
        "id": "97WRtb3lpMnk",
        "outputId": "238ad50e-03a0-4937-ec20-11b4015e334b"
      },
      "execution_count": 5,
      "outputs": [
        {
          "output_type": "execute_result",
          "data": {
            "text/plain": [
              "<Axes: xlabel='Date'>"
            ]
          },
          "metadata": {},
          "execution_count": 5
        },
        {
          "output_type": "display_data",
          "data": {
            "text/plain": [
              "<Figure size 800x600 with 1 Axes>"
            ],
            "image/png": "[encoded data removed]"
          },
          "metadata": {}
        }
      ]
    },
    {
      "cell_type": "markdown",
      "source": [
        "###**DESCRIPTIVE STATISTICS OF RETURNS**"
      ],
      "metadata": {
        "id": "cyJ8Gxs1uG2I"
      }
    },
    {
      "cell_type": "code",
      "source": [
        "#Using Pandas\n",
        "amzn_returns.describe()"
      ],
      "metadata": {
        "colab": {
          "base_uri": "https://localhost:8080/"
        },
        "id": "ehU_lTSnpvhx",
        "outputId": "8c9eff32-0701-4e6d-932a-c1330a31399c"
      },
      "execution_count": 6,
      "outputs": [
        {
          "output_type": "execute_result",
          "data": {
            "text/plain": [
              "count    1306.000000\n",
              "mean        0.000374\n",
              "std         0.022802\n",
              "min        -0.151398\n",
              "25%        -0.011107\n",
              "50%         0.001028\n",
              "75%         0.011963\n",
              "max         0.126949\n",
              "Name: Close, dtype: float64"
            ]
          },
          "metadata": {},
          "execution_count": 6
        }
      ]
    },
    {
      "cell_type": "code",
      "source": [
        "# Using Scipy Stats packagage\n",
        "from scipy import stats\n",
        "amzn_returns.dropna(inplace=True)  #dropping the nan values from amzn_returns\n",
        "n, minmax, mean, var, skew, kurt = stats.describe(amzn_returns)\n",
        "std = var**0.5"
      ],
      "metadata": {
        "id": "P5d-xoAkt8rd"
      },
      "execution_count": 7,
      "outputs": []
    },
    {
      "cell_type": "code",
      "source": [
        "print(\"Number of Observations: \",n)\n",
        "print(\"(Minimum, Maximum): \",minmax)\n",
        "print(\"Mean Value: \", mean)\n",
        "print(\"Variance: \", var)\n",
        "print(\"Skewness: \", skew)\n",
        "print(\"Kurtosis: \", kurt)\n",
        "print(\"Standard Deviation: \", std)"
      ],
      "metadata": {
        "colab": {
          "base_uri": "https://localhost:8080/"
        },
        "id": "8CME2jsXFD_0",
        "outputId": "506f7b21-43b2-4c02-a779-b65c97a524ab"
      },
      "execution_count": 8,
      "outputs": [
        {
          "output_type": "stream",
          "name": "stdout",
          "text": [
            "Number of Observations:  1306\n",
            "(Minimum, Maximum):  (-0.15139791287665272, 0.12694891576845713)\n",
            "Mean Value:  0.0003736406806233865\n",
            "Variance:  0.0005199521807618668\n",
            "Skewness:  -0.10922334855022663\n",
            "Kurtosis:  3.997360851870382\n",
            "Standard Deviation:  0.022802459971719428\n"
          ]
        }
      ]
    },
    {
      "cell_type": "markdown",
      "source": [
        "**Points:**\n",
        "1. We have negative skewness which means the distribution is longer on the left side of its peak. A normal distribution has zero skewness.\n",
        "2. We have excess kurtosis of about 4. A normal distribution has a kurtosis of 3. Therefore, here the raw kurtosis is 3+4=7. Thus, the distribution is much more peaked than a normal distribution which means we have way more observations towrads the center."
      ],
      "metadata": {
        "id": "RnCs70scJApm"
      }
    },
    {
      "cell_type": "markdown",
      "source": [
        "###**COMPARISON OF \"AMZN_RETURNS\" DATA DISTRIBUTION WITH NORMAL DISTRIBUTION**"
      ],
      "metadata": {
        "id": "SsOxhVl-Pt9k"
      }
    },
    {
      "cell_type": "code",
      "source": [
        "from scipy.stats import norm"
      ],
      "metadata": {
        "id": "XWrgV9Ekur_5"
      },
      "execution_count": 9,
      "outputs": []
    },
    {
      "cell_type": "code",
      "source": [
        "#fig, ax = plt.subplots(1,2,figsize=(8,6))\n",
        "plt.hist(amzn_returns, bins=15);"
      ],
      "metadata": {
        "colab": {
          "base_uri": "https://localhost:8080/",
          "height": 527
        },
        "id": "W-NRUYs8QAjt",
        "outputId": "a335afbf-f988-4b76-9bb7-ac0ed6542be0"
      },
      "execution_count": 10,
      "outputs": [
        {
          "output_type": "display_data",
          "data": {
            "text/plain": [
              "<Figure size 800x600 with 1 Axes>"
            ],
            "image/png": "[encoded data removed]"
          },
          "metadata": {}
        }
      ]
    },
    {
      "cell_type": "code",
      "source": [
        "x = norm.rvs(mean, std, n)\n",
        "plt.hist(x, bins=15);"
      ],
      "metadata": {
        "colab": {
          "base_uri": "https://localhost:8080/",
          "height": 527
        },
        "id": "pPSX1uqqQGJJ",
        "outputId": "98e44566-da9f-47a0-92c5-48e679d10075"
      },
      "execution_count": 11,
      "outputs": [
        {
          "output_type": "display_data",
          "data": {
            "text/plain": [
              "<Figure size 800x600 with 1 Axes>"
            ],
            "image/png": "[encoded data removed]"
          },
          "metadata": {}
        }
      ]
    },
    {
      "cell_type": "markdown",
      "source": [
        "###**TESTING WHETHER PRICE CHANGE IS NORMALLY DISTRIBUTED**"
      ],
      "metadata": {
        "id": "EVx8-BuliCPp"
      }
    },
    {
      "cell_type": "markdown",
      "source": [
        "#### Testing the Kurtosis\n",
        "#### Null Hypothesis is that the distribution is normal and if we have enough evidence we are going to reject it."
      ],
      "metadata": {
        "id": "AZGpFJf4iNeg"
      }
    },
    {
      "cell_type": "code",
      "source": [
        "# Kurtosis test is testing whether we can consider the distribution normal or not. Basically tells whether the kurtosis\n",
        "# is of normal distribution or not.\n",
        "x_test = stats.kurtosistest(x)\n",
        "amzn_test = stats.kurtosistest(amzn_returns)\n",
        "\n",
        "print(f'{\"      Test Statistic\":20}{\"p-value\":>15}')\n",
        "print(f'{\" \"*5}{\"-\"* 30}')\n",
        "print(f\"x:{x_test[0]:>17.2f}{x_test[1]:16.4f}\")\n",
        "print(f\"AMZN: {amzn_test[0]:13.2f}{amzn_test[1]:16.4f}\")"
      ],
      "metadata": {
        "id": "Stzjium1F4w3",
        "colab": {
          "base_uri": "https://localhost:8080/"
        },
        "outputId": "4e34f6ab-e2e4-42e8-d5c9-43fe2b7969be"
      },
      "execution_count": 16,
      "outputs": [
        {
          "output_type": "stream",
          "name": "stdout",
          "text": [
            "      Test Statistic        p-value\n",
            "     ------------------------------\n",
            "x:             0.86          0.3891\n",
            "AMZN:         11.22          0.0000\n"
          ]
        }
      ]
    },
    {
      "cell_type": "markdown",
      "source": [
        "1. Basically p-value means that if we want to reject the null hypothesis, there's a 38.91% chance of getting it wrong.\n",
        "2. Most Hypothesis tests would have an alpha of 0.05 and we would be able to reject the null if the p-value is less than 0.05 and we shouldn't reject it if it's greater than 0.05\n",
        "3. Another interpretation of p-value is that there is 38.91% chance that we got the variation we see in that x variable from random chance.\n",
        "4. Talking about the Amazon data, the p-value is shown 0. Although, it's not exactly 0 but close to 0. The p-value suggests that we should reject the null hypothesis and conclude that the **amzn cannot be considered as normally distributed.**\n"
      ],
      "metadata": {
        "id": "JGMOh7gspF2y"
      }
    },
    {
      "cell_type": "markdown",
      "source": [
        "### **HISTOGRAM OF PRICE CHANGE WITH NORMAL CURVE OVERLAY**"
      ],
      "metadata": {
        "id": "2TsrGlPzr_1o"
      }
    },
    {
      "cell_type": "code",
      "source": [
        "plt.hist(amzn_returns, bins = 25, edgecolor = 'w', density = True)\n",
        "overlay = np.linspace(minmax[0], minmax[1], 100) #array of 100 equally spaced data points between minimum and maximum of amzn_returns\n",
        "plt.plot(overlay, norm.pdf(overlay, mean, std));"
      ],
      "metadata": {
        "colab": {
          "base_uri": "https://localhost:8080/",
          "height": 527
        },
        "id": "Q1Api9HGksL5",
        "outputId": "d0b1210f-40ca-43c4-b2da-8c7cf5788831"
      },
      "execution_count": 18,
      "outputs": [
        {
          "output_type": "display_data",
          "data": {
            "text/plain": [
              "<Figure size 800x600 with 1 Axes>"
            ],
            "image/png": "[encoded data removed]"
          },
          "metadata": {}
        }
      ]
    },
    {
      "cell_type": "markdown",
      "source": [
        "#### We can see that the middle bars in our histogram are exceeding the theoritical normal distribution (with the amzn values). Even the edges aren't perfectly aligned."
      ],
      "metadata": {
        "id": "q7ydYLDbt1QS"
      }
    },
    {
      "cell_type": "markdown",
      "source": [
        "#### **CONCLUSION: Daily price change of Amazon data is not normally distributed.**"
      ],
      "metadata": {
        "id": "uC-gHYkIuQbf"
      }
    },
    {
      "cell_type": "code",
      "source": [],
      "metadata": {
        "id": "2nKzNJxMypeR"
      },
      "execution_count": null,
      "outputs": []
    },
    {
      "cell_type": "markdown",
      "source": [
        "### **2. Is daily price change have any directional bias?**"
      ],
      "metadata": {
        "id": "a6s9-BeCwo9C"
      }
    },
    {
      "cell_type": "markdown",
      "source": [
        "#### Null Hypothesis is that the daily price change is 0 or there is no directional bias."
      ],
      "metadata": {
        "id": "-kqkC9uN7GPY"
      }
    },
    {
      "cell_type": "code",
      "source": [
        "#This is a test for the null hypothesis that the expected value (mean) of a sample of\n",
        "#independent observations (here, amzn_returns) is equal to the given population mean, popmean (here, 0).\n",
        "\n",
        "# Two sided alternative: The mean of the underlying distribution of the sample is different than the given popmean (i.e., either in\n",
        "# positive or negative direction)\n",
        "\n",
        "stats.ttest_1samp(amzn_returns, 0, alternative='two-sided')"
      ],
      "metadata": {
        "colab": {
          "base_uri": "https://localhost:8080/"
        },
        "id": "7Sjdv6rnsxBj",
        "outputId": "595624be-41dc-48c2-b381-6abdfae767c2"
      },
      "execution_count": 20,
      "outputs": [
        {
          "output_type": "execute_result",
          "data": {
            "text/plain": [
              "TtestResult(statistic=0.5921667810101936, pvalue=0.5538414906356582, df=1305)"
            ]
          },
          "metadata": {},
          "execution_count": 20
        }
      ]
    },
    {
      "cell_type": "markdown",
      "source": [
        "#### p-value is 0.55 which is more than the assumed alpha value of 0.05. Therefore, we should not reject the null hypothesis."
      ],
      "metadata": {
        "id": "lzi0meJoxGCk"
      }
    },
    {
      "cell_type": "markdown",
      "source": [
        "### **CONCLUSION: Daily price change of data does not have any directional bias.**"
      ],
      "metadata": {
        "id": "svTHET3yw0nX"
      }
    },
    {
      "cell_type": "code",
      "source": [],
      "metadata": {
        "id": "UVOKnSXx5r19"
      },
      "execution_count": null,
      "outputs": []
    },
    {
      "cell_type": "markdown",
      "source": [
        "### **3. Can price movement be described as a random walk?**"
      ],
      "metadata": {
        "id": "W98hek1AyiJF"
      }
    },
    {
      "cell_type": "markdown",
      "source": [
        "###**CREATE PRICE LAGS**"
      ],
      "metadata": {
        "id": "EnKfsMf2zRAs"
      }
    },
    {
      "cell_type": "code",
      "source": [
        "amzn_close_df = pd.DataFrame(amzn_close, columns = ['Close'])\n",
        "amzn_close_df['lag1'] = amzn_close.shift(1)\n",
        "amzn_close_df['lag2'] = amzn_close.shift(2)\n",
        "amzn_close_df.dropna(inplace=True)\n",
        "amzn_close_df.head()"
      ],
      "metadata": {
        "colab": {
          "base_uri": "https://localhost:8080/",
          "height": 238
        },
        "id": "8tFsXfIAyoDV",
        "outputId": "5ccf938d-9a91-4394-fa27-5931d2fe19fe"
      },
      "execution_count": 24,
      "outputs": [
        {
          "output_type": "execute_result",
          "data": {
            "text/plain": [
              "                Close       lag1       lag2\n",
              "Date                                       \n",
              "2018-06-08  84.199501  84.464996  84.787498\n",
              "2018-06-11  84.456001  84.199501  84.464996\n",
              "2018-06-12  84.937500  84.456001  84.199501\n",
              "2018-06-13  85.242996  84.937500  84.456001\n",
              "2018-06-14  86.193001  85.242996  84.937500"
            ],
            "text/html": [
              "\n",
              "\n",
              "  <div id=\"df-a089fec6-1143-4406-928a-2b7ad84d3275\">\n",
              "    <div class=\"colab-df-container\">\n",
              "      <div>\n",
              "<style scoped>\n",
              "    .dataframe tbody tr th:only-of-type {\n",
              "        vertical-align: middle;\n",
              "    }\n",
              "\n",
              "    .dataframe tbody tr th {\n",
              "        vertical-align: top;\n",
              "    }\n",
              "\n",
              "    .dataframe thead th {\n",
              "        text-align: right;\n",
              "    }\n",
              "</style>\n",
              "<table border=\"1\" class=\"dataframe\">\n",
              "  <thead>\n",
              "    <tr style=\"text-align: right;\">\n",
              "      <th></th>\n",
              "      <th>Close</th>\n",
              "      <th>lag1</th>\n",
              "      <th>lag2</th>\n",
              "    </tr>\n",
              "    <tr>\n",
              "      <th>Date</th>\n",
              "      <th></th>\n",
              "      <th></th>\n",
              "      <th></th>\n",
              "    </tr>\n",
              "  </thead>\n",
              "  <tbody>\n",
              "    <tr>\n",
              "      <th>2018-06-08</th>\n",
              "      <td>84.199501</td>\n",
              "      <td>84.464996</td>\n",
              "      <td>84.787498</td>\n",
              "    </tr>\n",
              "    <tr>\n",
              "      <th>2018-06-11</th>\n",
              "      <td>84.456001</td>\n",
              "      <td>84.199501</td>\n",
              "      <td>84.464996</td>\n",
              "    </tr>\n",
              "    <tr>\n",
              "      <th>2018-06-12</th>\n",
              "      <td>84.937500</td>\n",
              "      <td>84.456001</td>\n",
              "      <td>84.199501</td>\n",
              "    </tr>\n",
              "    <tr>\n",
              "      <th>2018-06-13</th>\n",
              "      <td>85.242996</td>\n",
              "      <td>84.937500</td>\n",
              "      <td>84.456001</td>\n",
              "    </tr>\n",
              "    <tr>\n",
              "      <th>2018-06-14</th>\n",
              "      <td>86.193001</td>\n",
              "      <td>85.242996</td>\n",
              "      <td>84.937500</td>\n",
              "    </tr>\n",
              "  </tbody>\n",
              "</table>\n",
              "</div>\n",
              "      <button class=\"colab-df-convert\" onclick=\"convertToInteractive('df-a089fec6-1143-4406-928a-2b7ad84d3275')\"\n",
              "              title=\"Convert this dataframe to an interactive table.\"\n",
              "              style=\"display:none;\">\n",
              "\n",
              "  <svg xmlns=\"http://www.w3.org/2000/svg\" height=\"24px\"viewBox=\"0 0 24 24\"\n",
              "       width=\"24px\">\n",
              "    <path d=\"M0 0h24v24H0V0z\" fill=\"none\"/>\n",
              "    <path d=\"M18.56 5.44l.94 2.06.94-2.06 2.06-.94-2.06-.94-.94-2.06-.94 2.06-2.06.94zm-11 1L8.5 8.5l.94-2.06 2.06-.94-2.06-.94L8.5 2.5l-.94 2.06-2.06.94zm10 10l.94 2.06.94-2.06 2.06-.94-2.06-.94-.94-2.06-.94 2.06-2.06.94z\"/><path d=\"M17.41 7.96l-1.37-1.37c-.4-.4-.92-.59-1.43-.59-.52 0-1.04.2-1.43.59L10.3 9.45l-7.72 7.72c-.78.78-.78 2.05 0 2.83L4 21.41c.39.39.9.59 1.41.59.51 0 1.02-.2 1.41-.59l7.78-7.78 2.81-2.81c.8-.78.8-2.07 0-2.86zM5.41 20L4 18.59l7.72-7.72 1.47 1.35L5.41 20z\"/>\n",
              "  </svg>\n",
              "      </button>\n",
              "\n",
              "\n",
              "\n",
              "    <div id=\"df-7dbc728d-91d7-4706-8512-4e2e26108ac6\">\n",
              "      <button class=\"colab-df-quickchart\" onclick=\"quickchart('df-7dbc728d-91d7-4706-8512-4e2e26108ac6')\"\n",
              "              title=\"Suggest charts.\"\n",
              "              style=\"display:none;\">\n",
              "\n",
              "<svg xmlns=\"http://www.w3.org/2000/svg\" height=\"24px\"viewBox=\"0 0 24 24\"\n",
              "     width=\"24px\">\n",
              "    <g>\n",
              "        <path d=\"M19 3H5c-1.1 0-2 .9-2 2v14c0 1.1.9 2 2 2h14c1.1 0 2-.9 2-2V5c0-1.1-.9-2-2-2zM9 17H7v-7h2v7zm4 0h-2V7h2v10zm4 0h-2v-4h2v4z\"/>\n",
              "    </g>\n",
              "</svg>\n",
              "      </button>\n",
              "    </div>\n",
              "\n",
              "<style>\n",
              "  .colab-df-quickchart {\n",
              "    background-color: #E8F0FE;\n",
              "    border: none;\n",
              "    border-radius: 50%;\n",
              "    cursor: pointer;\n",
              "    display: none;\n",
              "    fill: #1967D2;\n",
              "    height: 32px;\n",
              "    padding: 0 0 0 0;\n",
              "    width: 32px;\n",
              "  }\n",
              "\n",
              "  .colab-df-quickchart:hover {\n",
              "    background-color: #E2EBFA;\n",
              "    box-shadow: 0px 1px 2px rgba(60, 64, 67, 0.3), 0px 1px 3px 1px rgba(60, 64, 67, 0.15);\n",
              "    fill: #174EA6;\n",
              "  }\n",
              "\n",
              "  [theme=dark] .colab-df-quickchart {\n",
              "    background-color: #3B4455;\n",
              "    fill: #D2E3FC;\n",
              "  }\n",
              "\n",
              "  [theme=dark] .colab-df-quickchart:hover {\n",
              "    background-color: #434B5C;\n",
              "    box-shadow: 0px 1px 3px 1px rgba(0, 0, 0, 0.15);\n",
              "    filter: drop-shadow(0px 1px 2px rgba(0, 0, 0, 0.3));\n",
              "    fill: #FFFFFF;\n",
              "  }\n",
              "</style>\n",
              "\n",
              "    <script>\n",
              "      async function quickchart(key) {\n",
              "        const containerElement = document.querySelector('#' + key);\n",
              "        const charts = await google.colab.kernel.invokeFunction(\n",
              "            'suggestCharts', [key], {});\n",
              "      }\n",
              "    </script>\n",
              "\n",
              "      <script>\n",
              "\n",
              "function displayQuickchartButton(domScope) {\n",
              "  let quickchartButtonEl =\n",
              "    domScope.querySelector('#df-7dbc728d-91d7-4706-8512-4e2e26108ac6 button.colab-df-quickchart');\n",
              "  quickchartButtonEl.style.display =\n",
              "    google.colab.kernel.accessAllowed ? 'block' : 'none';\n",
              "}\n",
              "\n",
              "        displayQuickchartButton(document);\n",
              "      </script>\n",
              "      <style>\n",
              "    .colab-df-container {\n",
              "      display:flex;\n",
              "      flex-wrap:wrap;\n",
              "      gap: 12px;\n",
              "    }\n",
              "\n",
              "    .colab-df-convert {\n",
              "      background-color: #E8F0FE;\n",
              "      border: none;\n",
              "      border-radius: 50%;\n",
              "      cursor: pointer;\n",
              "      display: none;\n",
              "      fill: #1967D2;\n",
              "      height: 32px;\n",
              "      padding: 0 0 0 0;\n",
              "      width: 32px;\n",
              "    }\n",
              "\n",
              "    .colab-df-convert:hover {\n",
              "      background-color: #E2EBFA;\n",
              "      box-shadow: 0px 1px 2px rgba(60, 64, 67, 0.3), 0px 1px 3px 1px rgba(60, 64, 67, 0.15);\n",
              "      fill: #174EA6;\n",
              "    }\n",
              "\n",
              "    [theme=dark] .colab-df-convert {\n",
              "      background-color: #3B4455;\n",
              "      fill: #D2E3FC;\n",
              "    }\n",
              "\n",
              "    [theme=dark] .colab-df-convert:hover {\n",
              "      background-color: #434B5C;\n",
              "      box-shadow: 0px 1px 3px 1px rgba(0, 0, 0, 0.15);\n",
              "      filter: drop-shadow(0px 1px 2px rgba(0, 0, 0, 0.3));\n",
              "      fill: #FFFFFF;\n",
              "    }\n",
              "  </style>\n",
              "\n",
              "      <script>\n",
              "        const buttonEl =\n",
              "          document.querySelector('#df-a089fec6-1143-4406-928a-2b7ad84d3275 button.colab-df-convert');\n",
              "        buttonEl.style.display =\n",
              "          google.colab.kernel.accessAllowed ? 'block' : 'none';\n",
              "\n",
              "        async function convertToInteractive(key) {\n",
              "          const element = document.querySelector('#df-a089fec6-1143-4406-928a-2b7ad84d3275');\n",
              "          const dataTable =\n",
              "            await google.colab.kernel.invokeFunction('convertToInteractive',\n",
              "                                                     [key], {});\n",
              "          if (!dataTable) return;\n",
              "\n",
              "          const docLinkHtml = 'Like what you see? Visit the ' +\n",
              "            '<a target=\"_blank\" href=https://colab.research.google.com/notebooks/data_table.ipynb>data table notebook</a>'\n",
              "            + ' to learn more about interactive tables.';\n",
              "          element.innerHTML = '';\n",
              "          dataTable['output_type'] = 'display_data';\n",
              "          await google.colab.output.renderOutput(dataTable, element);\n",
              "          const docLink = document.createElement('div');\n",
              "          docLink.innerHTML = docLinkHtml;\n",
              "          element.appendChild(docLink);\n",
              "        }\n",
              "      </script>\n",
              "    </div>\n",
              "  </div>\n"
            ]
          },
          "metadata": {},
          "execution_count": 24
        }
      ]
    },
    {
      "cell_type": "markdown",
      "source": [
        "### **FIT LINEAR MODEL**"
      ],
      "metadata": {
        "id": "gUJdEqJT1LZQ"
      }
    },
    {
      "cell_type": "code",
      "source": [
        "lr = np.linalg.lstsq(amzn_close_df[['lag1', 'lag2']], amzn_close_df['Close'], rcond=None)[0]\n",
        "lr"
      ],
      "metadata": {
        "colab": {
          "base_uri": "https://localhost:8080/"
        },
        "id": "b_snlcVKzdr8",
        "outputId": "a0961319-f06a-4650-9701-936393ab6533"
      },
      "execution_count": 29,
      "outputs": [
        {
          "output_type": "execute_result",
          "data": {
            "text/plain": [
              "array([0.97436169, 0.02569521])"
            ]
          },
          "metadata": {},
          "execution_count": 29
        }
      ]
    },
    {
      "cell_type": "markdown",
      "source": [
        "#### The output is saying that the lag1 is contributing about 97.4% towards predicting the next day's price and lag2 is only contributing the remaining 2.6%."
      ],
      "metadata": {
        "id": "-yJsLUjq1o_b"
      }
    },
    {
      "cell_type": "code",
      "source": [
        "amzn_close_df['predict'] = np.dot(amzn_close_df[['lag1', 'lag2']], lr)  #matrix multiplication to calculate predicted returns\n",
        "amzn_close_df.head()"
      ],
      "metadata": {
        "colab": {
          "base_uri": "https://localhost:8080/",
          "height": 238
        },
        "id": "ehguuHbj1gS-",
        "outputId": "128d3533-d7a9-4f4f-dff0-28d32ffd4e3c"
      },
      "execution_count": 30,
      "outputs": [
        {
          "output_type": "execute_result",
          "data": {
            "text/plain": [
              "                Close       lag1       lag2    predict\n",
              "Date                                                  \n",
              "2018-06-08  84.199501  84.464996  84.787498  84.478089\n",
              "2018-06-11  84.456001  84.199501  84.464996  84.211114\n",
              "2018-06-12  84.937500  84.456001  84.199501  84.454216\n",
              "2018-06-13  85.242996  84.937500  84.456001  84.929961\n",
              "2018-06-14  86.193001  85.242996  84.937500  85.239997"
            ],
            "text/html": [
              "\n",
              "\n",
              "  <div id=\"df-088614e1-1038-4fa9-8644-f3af2c068fa9\">\n",
              "    <div class=\"colab-df-container\">\n",
              "      <div>\n",
              "<style scoped>\n",
              "    .dataframe tbody tr th:only-of-type {\n",
              "        vertical-align: middle;\n",
              "    }\n",
              "\n",
              "    .dataframe tbody tr th {\n",
              "        vertical-align: top;\n",
              "    }\n",
              "\n",
              "    .dataframe thead th {\n",
              "        text-align: right;\n",
              "    }\n",
              "</style>\n",
              "<table border=\"1\" class=\"dataframe\">\n",
              "  <thead>\n",
              "    <tr style=\"text-align: right;\">\n",
              "      <th></th>\n",
              "      <th>Close</th>\n",
              "      <th>lag1</th>\n",
              "      <th>lag2</th>\n",
              "      <th>predict</th>\n",
              "    </tr>\n",
              "    <tr>\n",
              "      <th>Date</th>\n",
              "      <th></th>\n",
              "      <th></th>\n",
              "      <th></th>\n",
              "      <th></th>\n",
              "    </tr>\n",
              "  </thead>\n",
              "  <tbody>\n",
              "    <tr>\n",
              "      <th>2018-06-08</th>\n",
              "      <td>84.199501</td>\n",
              "      <td>84.464996</td>\n",
              "      <td>84.787498</td>\n",
              "      <td>84.478089</td>\n",
              "    </tr>\n",
              "    <tr>\n",
              "      <th>2018-06-11</th>\n",
              "      <td>84.456001</td>\n",
              "      <td>84.199501</td>\n",
              "      <td>84.464996</td>\n",
              "      <td>84.211114</td>\n",
              "    </tr>\n",
              "    <tr>\n",
              "      <th>2018-06-12</th>\n",
              "      <td>84.937500</td>\n",
              "      <td>84.456001</td>\n",
              "      <td>84.199501</td>\n",
              "      <td>84.454216</td>\n",
              "    </tr>\n",
              "    <tr>\n",
              "      <th>2018-06-13</th>\n",
              "      <td>85.242996</td>\n",
              "      <td>84.937500</td>\n",
              "      <td>84.456001</td>\n",
              "      <td>84.929961</td>\n",
              "    </tr>\n",
              "    <tr>\n",
              "      <th>2018-06-14</th>\n",
              "      <td>86.193001</td>\n",
              "      <td>85.242996</td>\n",
              "      <td>84.937500</td>\n",
              "      <td>85.239997</td>\n",
              "    </tr>\n",
              "  </tbody>\n",
              "</table>\n",
              "</div>\n",
              "      <button class=\"colab-df-convert\" onclick=\"convertToInteractive('df-088614e1-1038-4fa9-8644-f3af2c068fa9')\"\n",
              "              title=\"Convert this dataframe to an interactive table.\"\n",
              "              style=\"display:none;\">\n",
              "\n",
              "  <svg xmlns=\"http://www.w3.org/2000/svg\" height=\"24px\"viewBox=\"0 0 24 24\"\n",
              "       width=\"24px\">\n",
              "    <path d=\"M0 0h24v24H0V0z\" fill=\"none\"/>\n",
              "    <path d=\"M18.56 5.44l.94 2.06.94-2.06 2.06-.94-2.06-.94-.94-2.06-.94 2.06-2.06.94zm-11 1L8.5 8.5l.94-2.06 2.06-.94-2.06-.94L8.5 2.5l-.94 2.06-2.06.94zm10 10l.94 2.06.94-2.06 2.06-.94-2.06-.94-.94-2.06-.94 2.06-2.06.94z\"/><path d=\"M17.41 7.96l-1.37-1.37c-.4-.4-.92-.59-1.43-.59-.52 0-1.04.2-1.43.59L10.3 9.45l-7.72 7.72c-.78.78-.78 2.05 0 2.83L4 21.41c.39.39.9.59 1.41.59.51 0 1.02-.2 1.41-.59l7.78-7.78 2.81-2.81c.8-.78.8-2.07 0-2.86zM5.41 20L4 18.59l7.72-7.72 1.47 1.35L5.41 20z\"/>\n",
              "  </svg>\n",
              "      </button>\n",
              "\n",
              "\n",
              "\n",
              "    <div id=\"df-e4bcbe8c-4bcd-4331-a105-963e5db9d7e6\">\n",
              "      <button class=\"colab-df-quickchart\" onclick=\"quickchart('df-e4bcbe8c-4bcd-4331-a105-963e5db9d7e6')\"\n",
              "              title=\"Suggest charts.\"\n",
              "              style=\"display:none;\">\n",
              "\n",
              "<svg xmlns=\"http://www.w3.org/2000/svg\" height=\"24px\"viewBox=\"0 0 24 24\"\n",
              "     width=\"24px\">\n",
              "    <g>\n",
              "        <path d=\"M19 3H5c-1.1 0-2 .9-2 2v14c0 1.1.9 2 2 2h14c1.1 0 2-.9 2-2V5c0-1.1-.9-2-2-2zM9 17H7v-7h2v7zm4 0h-2V7h2v10zm4 0h-2v-4h2v4z\"/>\n",
              "    </g>\n",
              "</svg>\n",
              "      </button>\n",
              "    </div>\n",
              "\n",
              "<style>\n",
              "  .colab-df-quickchart {\n",
              "    background-color: #E8F0FE;\n",
              "    border: none;\n",
              "    border-radius: 50%;\n",
              "    cursor: pointer;\n",
              "    display: none;\n",
              "    fill: #1967D2;\n",
              "    height: 32px;\n",
              "    padding: 0 0 0 0;\n",
              "    width: 32px;\n",
              "  }\n",
              "\n",
              "  .colab-df-quickchart:hover {\n",
              "    background-color: #E2EBFA;\n",
              "    box-shadow: 0px 1px 2px rgba(60, 64, 67, 0.3), 0px 1px 3px 1px rgba(60, 64, 67, 0.15);\n",
              "    fill: #174EA6;\n",
              "  }\n",
              "\n",
              "  [theme=dark] .colab-df-quickchart {\n",
              "    background-color: #3B4455;\n",
              "    fill: #D2E3FC;\n",
              "  }\n",
              "\n",
              "  [theme=dark] .colab-df-quickchart:hover {\n",
              "    background-color: #434B5C;\n",
              "    box-shadow: 0px 1px 3px 1px rgba(0, 0, 0, 0.15);\n",
              "    filter: drop-shadow(0px 1px 2px rgba(0, 0, 0, 0.3));\n",
              "    fill: #FFFFFF;\n",
              "  }\n",
              "</style>\n",
              "\n",
              "    <script>\n",
              "      async function quickchart(key) {\n",
              "        const containerElement = document.querySelector('#' + key);\n",
              "        const charts = await google.colab.kernel.invokeFunction(\n",
              "            'suggestCharts', [key], {});\n",
              "      }\n",
              "    </script>\n",
              "\n",
              "      <script>\n",
              "\n",
              "function displayQuickchartButton(domScope) {\n",
              "  let quickchartButtonEl =\n",
              "    domScope.querySelector('#df-e4bcbe8c-4bcd-4331-a105-963e5db9d7e6 button.colab-df-quickchart');\n",
              "  quickchartButtonEl.style.display =\n",
              "    google.colab.kernel.accessAllowed ? 'block' : 'none';\n",
              "}\n",
              "\n",
              "        displayQuickchartButton(document);\n",
              "      </script>\n",
              "      <style>\n",
              "    .colab-df-container {\n",
              "      display:flex;\n",
              "      flex-wrap:wrap;\n",
              "      gap: 12px;\n",
              "    }\n",
              "\n",
              "    .colab-df-convert {\n",
              "      background-color: #E8F0FE;\n",
              "      border: none;\n",
              "      border-radius: 50%;\n",
              "      cursor: pointer;\n",
              "      display: none;\n",
              "      fill: #1967D2;\n",
              "      height: 32px;\n",
              "      padding: 0 0 0 0;\n",
              "      width: 32px;\n",
              "    }\n",
              "\n",
              "    .colab-df-convert:hover {\n",
              "      background-color: #E2EBFA;\n",
              "      box-shadow: 0px 1px 2px rgba(60, 64, 67, 0.3), 0px 1px 3px 1px rgba(60, 64, 67, 0.15);\n",
              "      fill: #174EA6;\n",
              "    }\n",
              "\n",
              "    [theme=dark] .colab-df-convert {\n",
              "      background-color: #3B4455;\n",
              "      fill: #D2E3FC;\n",
              "    }\n",
              "\n",
              "    [theme=dark] .colab-df-convert:hover {\n",
              "      background-color: #434B5C;\n",
              "      box-shadow: 0px 1px 3px 1px rgba(0, 0, 0, 0.15);\n",
              "      filter: drop-shadow(0px 1px 2px rgba(0, 0, 0, 0.3));\n",
              "      fill: #FFFFFF;\n",
              "    }\n",
              "  </style>\n",
              "\n",
              "      <script>\n",
              "        const buttonEl =\n",
              "          document.querySelector('#df-088614e1-1038-4fa9-8644-f3af2c068fa9 button.colab-df-convert');\n",
              "        buttonEl.style.display =\n",
              "          google.colab.kernel.accessAllowed ? 'block' : 'none';\n",
              "\n",
              "        async function convertToInteractive(key) {\n",
              "          const element = document.querySelector('#df-088614e1-1038-4fa9-8644-f3af2c068fa9');\n",
              "          const dataTable =\n",
              "            await google.colab.kernel.invokeFunction('convertToInteractive',\n",
              "                                                     [key], {});\n",
              "          if (!dataTable) return;\n",
              "\n",
              "          const docLinkHtml = 'Like what you see? Visit the ' +\n",
              "            '<a target=\"_blank\" href=https://colab.research.google.com/notebooks/data_table.ipynb>data table notebook</a>'\n",
              "            + ' to learn more about interactive tables.';\n",
              "          element.innerHTML = '';\n",
              "          dataTable['output_type'] = 'display_data';\n",
              "          await google.colab.output.renderOutput(dataTable, element);\n",
              "          const docLink = document.createElement('div');\n",
              "          docLink.innerHTML = docLinkHtml;\n",
              "          element.appendChild(docLink);\n",
              "        }\n",
              "      </script>\n",
              "    </div>\n",
              "  </div>\n"
            ]
          },
          "metadata": {},
          "execution_count": 30
        }
      ]
    },
    {
      "cell_type": "code",
      "source": [
        "amzn_close_df[-252:][['Close', 'predict']].plot();  #taking the last year data and comparing the actual and predicted returns"
      ],
      "metadata": {
        "colab": {
          "base_uri": "https://localhost:8080/",
          "height": 526
        },
        "id": "Ezxh9sA_2f9E",
        "outputId": "f64d22b7-aa3f-4902-f9ab-9623d51b1524"
      },
      "execution_count": 33,
      "outputs": [
        {
          "output_type": "display_data",
          "data": {
            "text/plain": [
              "<Figure size 800x600 with 1 Axes>"
            ],
            "image/png": "[encoded data removed]"
          },
          "metadata": {}
        }
      ]
    },
    {
      "cell_type": "markdown",
      "source": [
        "#### We can observe from the graph that the predicted returns follow the actual ones pretty well. If the price movement would have been a random walk then it would have been difficult to predict the returns. But here that's not the case.\n",
        "### **CONCLUSION: Price movement is not random walk.**"
      ],
      "metadata": {
        "id": "KDIII5ZS4tvz"
      }
    },
    {
      "cell_type": "code",
      "source": [],
      "metadata": {
        "id": "a-rfWTMD2oGZ"
      },
      "execution_count": null,
      "outputs": []
    }
  ]
}